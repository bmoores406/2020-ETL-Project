{
 "cells": [
  {
   "cell_type": "code",
   "execution_count": null,
   "metadata": {},
   "outputs": [],
   "source": [
    "#import dependencies\n",
    "import pandas as pd\n",
    "import pymongo\n",
    "import json"
   ]
  },
  {
   "cell_type": "code",
   "execution_count": null,
   "metadata": {},
   "outputs": [],
   "source": [
    "# Read Thanksgivng poll data\n",
    "csv_file = \"Resources/thanksgiving-2015-poll-data.csv\"\n",
    "Thanksgiving_data_df = pd.read_csv(csv_file)\n",
    "Thanksgiving_data_df.head()"
   ]
  },
  {
   "cell_type": "code",
   "execution_count": null,
   "metadata": {},
   "outputs": [],
   "source": [
    "# Rename columns to shorten the name on dish name to be used\n",
    "renamed_df = Thanksgiving_data_df.rename(columns={'What is typically the main dish at your Thanksgiving dinner?':'Main Dish',\n",
    "                                  'Which of these side dishes aretypically served at your Thanksgiving dinner? Please select all that apply. - Brussel sprouts':'Brussel sprouts',\n",
    "                                  'Which of these side dishes aretypically served at your Thanksgiving dinner? Please select all that apply. - Carrots':'Carrots',\n",
    "                                  'Which of these side dishes aretypically served at your Thanksgiving dinner? Please select all that apply. - Cauliflower':'Cauliflower',\n",
    "                                  'Which of these side dishes aretypically served at your Thanksgiving dinner? Please select all that apply. - Corn':'Corn',\n",
    "                                  'Which of these side dishes aretypically served at your Thanksgiving dinner? Please select all that apply. - Cornbread':'Cornbread',\n",
    "                                  'Which of these side dishes aretypically served at your Thanksgiving dinner? Please select all that apply. - Green beans/green bean casserole':'Green beans',\n",
    "                                  'Which of these side dishes aretypically served at your Thanksgiving dinner? Please select all that apply. - Macaroni and cheese':'Macaroni and cheese',\n",
    "                                  'Which of these side dishes aretypically served at your Thanksgiving dinner? Please select all that apply. - Mashed potatoes':'Mashed potatoes',\n",
    "                                  'Which type of pie is typically served at your Thanksgiving dinner? Please select all that apply. - Apple':'Apple',\n",
    "                                  'Which type of pie is typically served at your Thanksgiving dinner? Please select all that apply. - Cherry':'Cherry',\n",
    "                                  'Which type of pie is typically served at your Thanksgiving dinner? Please select all that apply. - Chocolate':'Chocolate',\n",
    "                                  'Which type of pie is typically served at your Thanksgiving dinner? Please select all that apply. - Coconut cream':'Coconut cream',\n",
    "                                  'Which type of pie is typically served at your Thanksgiving dinner? Please select all that apply. - Key lime':'Key lime',\n",
    "                                  'Which type of pie is typically served at your Thanksgiving dinner? Please select all that apply. - Peach':'Peach',\n",
    "                                  'Which type of pie is typically served at your Thanksgiving dinner? Please select all that apply. - Pecan':'Pecan',\n",
    "                                  'Which type of pie is typically served at your Thanksgiving dinner? Please select all that apply. - Pumpkin':'Pumpkin',\n",
    "                                  'Which type of pie is typically served at your Thanksgiving dinner? Please select all that apply. - Sweet Potato':'Sweet Potato',\n",
    "                                  'Which of these desserts do you typically have at Thanksgiving dinner? Please select all that apply.   - Apple cobbler':'Apple Cobbler',\n",
    "                                  'Which of these desserts do you typically have at Thanksgiving dinner? Please select all that apply.   - Blondies':'Blondies',\n",
    "                                  'Which of these desserts do you typically have at Thanksgiving dinner? Please select all that apply.   - Brownies':'Brownies',\n",
    "                                  'Which of these desserts do you typically have at Thanksgiving dinner? Please select all that apply.   - Carrot cake':'Carrot cake',\n",
    "                                  'Which of these desserts do you typically have at Thanksgiving dinner? Please select all that apply.   - Cheesecake':'Cheesecake',\n",
    "                                  'Which of these desserts do you typically have at Thanksgiving dinner? Please select all that apply.   - Cookies':'Cookies',\n",
    "                                  'Which of these desserts do you typically have at Thanksgiving dinner? Please select all that apply.   - Fudge':'Fudge',\n",
    "                                  'Which of these desserts do you typically have at Thanksgiving dinner? Please select all that apply.   - Ice cream':'Ice cream',\n",
    "                                  'Which of these desserts do you typically have at Thanksgiving dinner? Please select all that apply.   - Peach cobbler':'Peach cobbler'})\n",
    "renamed_df.head()\n"
   ]
  },
  {
   "cell_type": "code",
   "execution_count": null,
   "metadata": {},
   "outputs": [],
   "source": [
    "# Select only the columns to be used\n",
    "Thanksgiving_df = renamed_df[['Main Dish','Brussel sprouts','Carrots','Cauliflower','Corn','Cornbread','Green beans','Macaroni and cheese','Mashed potatoes',\n",
    "                              'Apple','Cherry','Chocolate','Coconut cream','Key lime','Peach','Pecan','Pumpkin','Sweet Potato',\n",
    "                              'Apple Cobbler','Blondies','Brownies','Carrot cake','Cheesecake','Cookies','Fudge','Ice cream','Peach cobbler']]\n",
    "Thanksgiving_df.head()"
   ]
  },
  {
   "cell_type": "code",
   "execution_count": null,
   "metadata": {},
   "outputs": [],
   "source": [
    "# List of Main Dish \n",
    "maindish_df = Thanksgiving_df[['Main Dish']].copy()\n",
    "dropped_maindish_df = maindish_df.drop_duplicates()\n",
    "maindish_list = dropped_maindish_df['Main Dish'].tolist()\n",
    "maindish_list"
   ]
  },
  {
   "cell_type": "code",
   "execution_count": null,
   "metadata": {},
   "outputs": [],
   "source": [
    "# group by, count, rename, dropping the \"Other\" and \"I don't know\" rows to get count for each Main Dish:\n",
    "maindish_group = maindish_df.groupby(['Main Dish'], sort=False)\n",
    "maindish_count = maindish_group['Main Dish'].count()\n",
    "maindish_count = pd.DataFrame(maindish_count)\n",
    "maindish_rename = maindish_count.rename(columns={'Main Dish':'Count'})\n",
    "drop1 = maindish_rename.drop(index=\"Other (please specify)\")\n",
    "maindish_count_df = drop1.drop(index=\"I don't know\")\n",
    "maindish_count_df\n"
   ]
  },
  {
   "cell_type": "code",
   "execution_count": null,
   "metadata": {},
   "outputs": [],
   "source": [
    "#create a list of the main dishes using the index from the dataframe:\n",
    "main_list = maindish_count_df.index.tolist()\n",
    "print(main_list)"
   ]
  },
  {
   "cell_type": "code",
   "execution_count": null,
   "metadata": {},
   "outputs": [],
   "source": [
    "#create a dictionary to be loaded into a database with \"Main\" as the key and the above list as the values:\n",
    "main_dict = {'Main': main_list}\n",
    "print(main_dict)"
   ]
  },
  {
   "cell_type": "code",
   "execution_count": null,
   "metadata": {},
   "outputs": [],
   "source": [
    "# Select Side Dishes\n",
    "sides_df = Thanksgiving_df[['Brussel sprouts','Carrots','Cauliflower','Corn','Cornbread',\n",
    "                            'Green beans','Macaroni and cheese','Mashed potatoes']]\n",
    "sides_df.head()\n"
   ]
  },
  {
   "cell_type": "code",
   "execution_count": null,
   "metadata": {},
   "outputs": [],
   "source": [
    "# transpose and index to get list of Side Dishes\n",
    "tsides_df = sides_df.T\n",
    "\n",
    "tsides_df.index\n",
    "\n",
    "tsides_df.head()\n"
   ]
  },
  {
   "cell_type": "code",
   "execution_count": null,
   "metadata": {},
   "outputs": [],
   "source": [
    "#create a list of the side dishes using the index from the dataframe:\n",
    "side_list = tsides_df.index.tolist()\n",
    "\n",
    "#create a dictionary to be loaded into a database with \"Side\" as the key and the above list as the values:\n",
    "side_dict = {'Side':side_list}\n",
    "print(side_dict)"
   ]
  },
  {
   "cell_type": "code",
   "execution_count": null,
   "metadata": {},
   "outputs": [],
   "source": [
    "# Select desserts\n",
    "dessert_df = Thanksgiving_df[['Apple Cobbler','Blondies','Brownies','Carrot cake','Cheesecake',\n",
    "                              'Cookies','Fudge','Ice cream','Peach cobbler']]\n",
    "dessert_df.head()\n"
   ]
  },
  {
   "cell_type": "code",
   "execution_count": null,
   "metadata": {},
   "outputs": [],
   "source": [
    "# transpose and index to get list of desserts\n",
    "tdessert_df = dessert_df.T\n",
    "\n",
    "#create a list of the dessert dishes using the index from the dataframe:\n",
    "dessert_list = tdessert_df.index.tolist()\n",
    "\n",
    "#create a dictionary to be loaded into a database with \"Dessert\" as the key and the above list as the values:\n",
    "dessert_dict = {'Dessert': dessert_list}\n",
    "#tdessert_df\n",
    "\n",
    "print(dessert_dict)\n"
   ]
  },
  {
   "cell_type": "code",
   "execution_count": null,
   "metadata": {
    "scrolled": false
   },
   "outputs": [],
   "source": [
    "#read in json file, adding in the \"lines=True\" condition as each item in the file is a separate dictionary\n",
    "json_file = \"Resources/recipes.json\"\n",
    "recipe_data_df = pd.read_json(json_file, lines=True)\n",
    "recipe_data_df.head()\n",
    "\n",
    "\n",
    "    "
   ]
  },
  {
   "cell_type": "code",
   "execution_count": null,
   "metadata": {},
   "outputs": [],
   "source": [
    "#create a new dataframe with only the Name, url, and Ingredients columns:\n",
    "filtered_recipe_df = recipe_data_df[['Name','url','Ingredients']]\n",
    "filtered_recipe_df"
   ]
  },
  {
   "cell_type": "code",
   "execution_count": null,
   "metadata": {},
   "outputs": [],
   "source": [
    "#establish connection to MongoDB via pymongo:\n",
    "conn = 'mongodb://localhost:27017'\n",
    "client = pymongo.MongoClient(conn)\n"
   ]
  },
  {
   "cell_type": "code",
   "execution_count": null,
   "metadata": {},
   "outputs": [],
   "source": [
    "#create the recipes_db database:\n",
    "db = client.recipes_db\n",
    "\n",
    "#create the collections within the recipes_db database:\n",
    "recipe = db.recipe\n",
    "main = db.main\n",
    "side = db.side\n",
    "dessert = db.dessert\n"
   ]
  },
  {
   "cell_type": "code",
   "execution_count": null,
   "metadata": {},
   "outputs": [],
   "source": [
    "#drop the collection to clear out any data that may have been from a previous connection:\n",
    "db.recipe.drop()\n",
    "\n",
    "#convert the dataframe containing recipe names, urls, and ingredients into a JSON file and store it into a records variable:\n",
    "records = json.loads(filtered_recipe_df.T.to_json()).values()\n",
    "\n",
    "#insert the JSON into the recipe collection:\n",
    "db.recipe.insert_many(records)"
   ]
  },
  {
   "cell_type": "code",
   "execution_count": null,
   "metadata": {},
   "outputs": [],
   "source": [
    "#drop the collection to clear out any data that may have been from a previous connection:\n",
    "db.main.drop()\n",
    "\n",
    "#insert the dictionary of main dish items into the main collection:\n",
    "db.main.insert_one(main_dict)"
   ]
  },
  {
   "cell_type": "code",
   "execution_count": null,
   "metadata": {},
   "outputs": [],
   "source": [
    "#drop the collection to clear out any data that may have been from a previous connection:\n",
    "db.side.drop()\n",
    "\n",
    "#insert the dictionary of side dish items into the side collection:\n",
    "db.side.insert_one(side_dict)"
   ]
  },
  {
   "cell_type": "code",
   "execution_count": null,
   "metadata": {},
   "outputs": [],
   "source": [
    "#drop the collection to clear out any data that may have been from a previous connection:\n",
    "db.dessert.drop()\n",
    "\n",
    "#insert the dictionary of dessert items into the dessert collection:\n",
    "db.dessert.insert_one(dessert_dict)"
   ]
  },
  {
   "cell_type": "code",
   "execution_count": null,
   "metadata": {},
   "outputs": [],
   "source": []
  }
 ],
 "metadata": {
  "kernelspec": {
   "name": "python3",
   "display_name": "Python 3.6.10 64-bit ('PythonData': conda)",
   "metadata": {
    "interpreter": {
     "hash": "0b96008626cca6475d57468afa2b47499b7d40e34aa4792a1fd054893ac8e4a7"
    }
   }
  },
  "language_info": {
   "codemirror_mode": {
    "name": "ipython",
    "version": 3
   },
   "file_extension": ".py",
   "mimetype": "text/x-python",
   "name": "python",
   "nbconvert_exporter": "python",
   "pygments_lexer": "ipython3",
   "version": "3.6.10-final"
  }
 },
 "nbformat": 4,
 "nbformat_minor": 4
}