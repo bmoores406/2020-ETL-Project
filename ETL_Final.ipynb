{
 "cells": [
  {
   "cell_type": "code",
   "execution_count": 1,
   "metadata": {},
   "outputs": [],
   "source": [
    "#import dependencies\n",
    "import pandas as pd\n",
    "import pymongo\n",
    "import json"
   ]
  },
  {
   "cell_type": "code",
   "execution_count": 2,
   "metadata": {},
   "outputs": [
    {
     "output_type": "execute_result",
     "data": {
      "text/plain": [
       "   RespondentID Do you celebrate Thanksgiving?  \\\n",
       "0    4337954960                            Yes   \n",
       "1    4337951949                            Yes   \n",
       "2    4337935621                            Yes   \n",
       "3    4337933040                            Yes   \n",
       "4    4337931983                            Yes   \n",
       "\n",
       "  What is typically the main dish at your Thanksgiving dinner?  \\\n",
       "0                                             Turkey             \n",
       "1                                             Turkey             \n",
       "2                                             Turkey             \n",
       "3                                             Turkey             \n",
       "4                                           Tofurkey             \n",
       "\n",
       "  What is typically the main dish at your Thanksgiving dinner? - Other (please specify)  \\\n",
       "0                                                NaN                                      \n",
       "1                                                NaN                                      \n",
       "2                                                NaN                                      \n",
       "3                                                NaN                                      \n",
       "4                                                NaN                                      \n",
       "\n",
       "  How is the main dish typically cooked?  \\\n",
       "0                                  Baked   \n",
       "1                                  Baked   \n",
       "2                                Roasted   \n",
       "3                                  Baked   \n",
       "4                                  Baked   \n",
       "\n",
       "  How is the main dish typically cooked? - Other (please specify)  \\\n",
       "0                                                NaN                \n",
       "1                                                NaN                \n",
       "2                                                NaN                \n",
       "3                                                NaN                \n",
       "4                                                NaN                \n",
       "\n",
       "  What kind of stuffing/dressing do you typically have?  \\\n",
       "0                                        Bread-based      \n",
       "1                                        Bread-based      \n",
       "2                                         Rice-based      \n",
       "3                                        Bread-based      \n",
       "4                                        Bread-based      \n",
       "\n",
       "  What kind of stuffing/dressing do you typically have? - Other (please specify)  \\\n",
       "0                                                NaN                               \n",
       "1                                                NaN                               \n",
       "2                                                NaN                               \n",
       "3                                                NaN                               \n",
       "4                                                NaN                               \n",
       "\n",
       "  What type of cranberry saucedo you typically have?  \\\n",
       "0                                               None   \n",
       "1                             Other (please specify)   \n",
       "2                                           Homemade   \n",
       "3                                           Homemade   \n",
       "4                                             Canned   \n",
       "\n",
       "  What type of cranberry saucedo you typically have? - Other (please specify)  \\\n",
       "0                                                NaN                            \n",
       "1                    Homemade cranberry gelatin ring                            \n",
       "2                                                NaN                            \n",
       "3                                                NaN                            \n",
       "4                                                NaN                            \n",
       "\n",
       "   ...  \\\n",
       "0  ...   \n",
       "1  ...   \n",
       "2  ...   \n",
       "3  ...   \n",
       "4  ...   \n",
       "\n",
       "  Have you ever tried to meet up with hometown friends on Thanksgiving night?  \\\n",
       "0                                                Yes                            \n",
       "1                                                 No                            \n",
       "2                                                Yes                            \n",
       "3                                                Yes                            \n",
       "4                                                Yes                            \n",
       "\n",
       "  Have you ever attended a \"Friendsgiving?\"  \\\n",
       "0                                        No   \n",
       "1                                        No   \n",
       "2                                       Yes   \n",
       "3                                        No   \n",
       "4                                        No   \n",
       "\n",
       "  Will you shop any Black Friday sales on Thanksgiving Day?  \\\n",
       "0                                                 No          \n",
       "1                                                Yes          \n",
       "2                                                Yes          \n",
       "3                                                 No          \n",
       "4                                                 No          \n",
       "\n",
       "  Do you work in retail? Will you employer make you work on Black Friday?  \\\n",
       "0                     No                                              NaN   \n",
       "1                     No                                              NaN   \n",
       "2                     No                                              NaN   \n",
       "3                     No                                              NaN   \n",
       "4                     No                                              NaN   \n",
       "\n",
       "  How would you describe where you live?      Age What is your gender?  \\\n",
       "0                               Suburban  18 - 29                 Male   \n",
       "1                                  Rural  18 - 29               Female   \n",
       "2                               Suburban  18 - 29                 Male   \n",
       "3                                  Urban  30 - 44                 Male   \n",
       "4                                  Urban  30 - 44                 Male   \n",
       "\n",
       "  How much total combined money did all members of your HOUSEHOLD earn last year?  \\\n",
       "0                                 $75,000 to $99,999                                \n",
       "1                                 $50,000 to $74,999                                \n",
       "2                                       $0 to $9,999                                \n",
       "3                                    $200,000 and up                                \n",
       "4                               $100,000 to $124,999                                \n",
       "\n",
       "            US Region  \n",
       "0     Middle Atlantic  \n",
       "1  East South Central  \n",
       "2            Mountain  \n",
       "3             Pacific  \n",
       "4             Pacific  \n",
       "\n",
       "[5 rows x 65 columns]"
      ],
      "text/html": "<div>\n<style scoped>\n    .dataframe tbody tr th:only-of-type {\n        vertical-align: middle;\n    }\n\n    .dataframe tbody tr th {\n        vertical-align: top;\n    }\n\n    .dataframe thead th {\n        text-align: right;\n    }\n</style>\n<table border=\"1\" class=\"dataframe\">\n  <thead>\n    <tr style=\"text-align: right;\">\n      <th></th>\n      <th>RespondentID</th>\n      <th>Do you celebrate Thanksgiving?</th>\n      <th>What is typically the main dish at your Thanksgiving dinner?</th>\n      <th>What is typically the main dish at your Thanksgiving dinner? - Other (please specify)</th>\n      <th>How is the main dish typically cooked?</th>\n      <th>How is the main dish typically cooked? - Other (please specify)</th>\n      <th>What kind of stuffing/dressing do you typically have?</th>\n      <th>What kind of stuffing/dressing do you typically have? - Other (please specify)</th>\n      <th>What type of cranberry saucedo you typically have?</th>\n      <th>What type of cranberry saucedo you typically have? - Other (please specify)</th>\n      <th>...</th>\n      <th>Have you ever tried to meet up with hometown friends on Thanksgiving night?</th>\n      <th>Have you ever attended a \"Friendsgiving?\"</th>\n      <th>Will you shop any Black Friday sales on Thanksgiving Day?</th>\n      <th>Do you work in retail?</th>\n      <th>Will you employer make you work on Black Friday?</th>\n      <th>How would you describe where you live?</th>\n      <th>Age</th>\n      <th>What is your gender?</th>\n      <th>How much total combined money did all members of your HOUSEHOLD earn last year?</th>\n      <th>US Region</th>\n    </tr>\n  </thead>\n  <tbody>\n    <tr>\n      <th>0</th>\n      <td>4337954960</td>\n      <td>Yes</td>\n      <td>Turkey</td>\n      <td>NaN</td>\n      <td>Baked</td>\n      <td>NaN</td>\n      <td>Bread-based</td>\n      <td>NaN</td>\n      <td>None</td>\n      <td>NaN</td>\n      <td>...</td>\n      <td>Yes</td>\n      <td>No</td>\n      <td>No</td>\n      <td>No</td>\n      <td>NaN</td>\n      <td>Suburban</td>\n      <td>18 - 29</td>\n      <td>Male</td>\n      <td>$75,000 to $99,999</td>\n      <td>Middle Atlantic</td>\n    </tr>\n    <tr>\n      <th>1</th>\n      <td>4337951949</td>\n      <td>Yes</td>\n      <td>Turkey</td>\n      <td>NaN</td>\n      <td>Baked</td>\n      <td>NaN</td>\n      <td>Bread-based</td>\n      <td>NaN</td>\n      <td>Other (please specify)</td>\n      <td>Homemade cranberry gelatin ring</td>\n      <td>...</td>\n      <td>No</td>\n      <td>No</td>\n      <td>Yes</td>\n      <td>No</td>\n      <td>NaN</td>\n      <td>Rural</td>\n      <td>18 - 29</td>\n      <td>Female</td>\n      <td>$50,000 to $74,999</td>\n      <td>East South Central</td>\n    </tr>\n    <tr>\n      <th>2</th>\n      <td>4337935621</td>\n      <td>Yes</td>\n      <td>Turkey</td>\n      <td>NaN</td>\n      <td>Roasted</td>\n      <td>NaN</td>\n      <td>Rice-based</td>\n      <td>NaN</td>\n      <td>Homemade</td>\n      <td>NaN</td>\n      <td>...</td>\n      <td>Yes</td>\n      <td>Yes</td>\n      <td>Yes</td>\n      <td>No</td>\n      <td>NaN</td>\n      <td>Suburban</td>\n      <td>18 - 29</td>\n      <td>Male</td>\n      <td>$0 to $9,999</td>\n      <td>Mountain</td>\n    </tr>\n    <tr>\n      <th>3</th>\n      <td>4337933040</td>\n      <td>Yes</td>\n      <td>Turkey</td>\n      <td>NaN</td>\n      <td>Baked</td>\n      <td>NaN</td>\n      <td>Bread-based</td>\n      <td>NaN</td>\n      <td>Homemade</td>\n      <td>NaN</td>\n      <td>...</td>\n      <td>Yes</td>\n      <td>No</td>\n      <td>No</td>\n      <td>No</td>\n      <td>NaN</td>\n      <td>Urban</td>\n      <td>30 - 44</td>\n      <td>Male</td>\n      <td>$200,000 and up</td>\n      <td>Pacific</td>\n    </tr>\n    <tr>\n      <th>4</th>\n      <td>4337931983</td>\n      <td>Yes</td>\n      <td>Tofurkey</td>\n      <td>NaN</td>\n      <td>Baked</td>\n      <td>NaN</td>\n      <td>Bread-based</td>\n      <td>NaN</td>\n      <td>Canned</td>\n      <td>NaN</td>\n      <td>...</td>\n      <td>Yes</td>\n      <td>No</td>\n      <td>No</td>\n      <td>No</td>\n      <td>NaN</td>\n      <td>Urban</td>\n      <td>30 - 44</td>\n      <td>Male</td>\n      <td>$100,000 to $124,999</td>\n      <td>Pacific</td>\n    </tr>\n  </tbody>\n</table>\n<p>5 rows × 65 columns</p>\n</div>"
     },
     "metadata": {},
     "execution_count": 2
    }
   ],
   "source": [
    "# Read Thanksgivng poll data\n",
    "csv_file = \"Resources/thanksgiving-2015-poll-data.csv\"\n",
    "Thanksgiving_data_df = pd.read_csv(csv_file)\n",
    "Thanksgiving_data_df.head()"
   ]
  },
  {
   "cell_type": "code",
   "execution_count": 3,
   "metadata": {},
   "outputs": [
    {
     "output_type": "execute_result",
     "data": {
      "text/plain": [
       "   RespondentID Do you celebrate Thanksgiving? Main Dish  \\\n",
       "0    4337954960                            Yes    Turkey   \n",
       "1    4337951949                            Yes    Turkey   \n",
       "2    4337935621                            Yes    Turkey   \n",
       "3    4337933040                            Yes    Turkey   \n",
       "4    4337931983                            Yes  Tofurkey   \n",
       "\n",
       "  What is typically the main dish at your Thanksgiving dinner? - Other (please specify)  \\\n",
       "0                                                NaN                                      \n",
       "1                                                NaN                                      \n",
       "2                                                NaN                                      \n",
       "3                                                NaN                                      \n",
       "4                                                NaN                                      \n",
       "\n",
       "  How is the main dish typically cooked?  \\\n",
       "0                                  Baked   \n",
       "1                                  Baked   \n",
       "2                                Roasted   \n",
       "3                                  Baked   \n",
       "4                                  Baked   \n",
       "\n",
       "  How is the main dish typically cooked? - Other (please specify)  \\\n",
       "0                                                NaN                \n",
       "1                                                NaN                \n",
       "2                                                NaN                \n",
       "3                                                NaN                \n",
       "4                                                NaN                \n",
       "\n",
       "  What kind of stuffing/dressing do you typically have?  \\\n",
       "0                                        Bread-based      \n",
       "1                                        Bread-based      \n",
       "2                                         Rice-based      \n",
       "3                                        Bread-based      \n",
       "4                                        Bread-based      \n",
       "\n",
       "  What kind of stuffing/dressing do you typically have? - Other (please specify)  \\\n",
       "0                                                NaN                               \n",
       "1                                                NaN                               \n",
       "2                                                NaN                               \n",
       "3                                                NaN                               \n",
       "4                                                NaN                               \n",
       "\n",
       "  What type of cranberry saucedo you typically have?  \\\n",
       "0                                               None   \n",
       "1                             Other (please specify)   \n",
       "2                                           Homemade   \n",
       "3                                           Homemade   \n",
       "4                                             Canned   \n",
       "\n",
       "  What type of cranberry saucedo you typically have? - Other (please specify)  \\\n",
       "0                                                NaN                            \n",
       "1                    Homemade cranberry gelatin ring                            \n",
       "2                                                NaN                            \n",
       "3                                                NaN                            \n",
       "4                                                NaN                            \n",
       "\n",
       "   ...  \\\n",
       "0  ...   \n",
       "1  ...   \n",
       "2  ...   \n",
       "3  ...   \n",
       "4  ...   \n",
       "\n",
       "  Have you ever tried to meet up with hometown friends on Thanksgiving night?  \\\n",
       "0                                                Yes                            \n",
       "1                                                 No                            \n",
       "2                                                Yes                            \n",
       "3                                                Yes                            \n",
       "4                                                Yes                            \n",
       "\n",
       "  Have you ever attended a \"Friendsgiving?\"  \\\n",
       "0                                        No   \n",
       "1                                        No   \n",
       "2                                       Yes   \n",
       "3                                        No   \n",
       "4                                        No   \n",
       "\n",
       "  Will you shop any Black Friday sales on Thanksgiving Day?  \\\n",
       "0                                                 No          \n",
       "1                                                Yes          \n",
       "2                                                Yes          \n",
       "3                                                 No          \n",
       "4                                                 No          \n",
       "\n",
       "  Do you work in retail? Will you employer make you work on Black Friday?  \\\n",
       "0                     No                                              NaN   \n",
       "1                     No                                              NaN   \n",
       "2                     No                                              NaN   \n",
       "3                     No                                              NaN   \n",
       "4                     No                                              NaN   \n",
       "\n",
       "  How would you describe where you live?      Age What is your gender?  \\\n",
       "0                               Suburban  18 - 29                 Male   \n",
       "1                                  Rural  18 - 29               Female   \n",
       "2                               Suburban  18 - 29                 Male   \n",
       "3                                  Urban  30 - 44                 Male   \n",
       "4                                  Urban  30 - 44                 Male   \n",
       "\n",
       "  How much total combined money did all members of your HOUSEHOLD earn last year?  \\\n",
       "0                                 $75,000 to $99,999                                \n",
       "1                                 $50,000 to $74,999                                \n",
       "2                                       $0 to $9,999                                \n",
       "3                                    $200,000 and up                                \n",
       "4                               $100,000 to $124,999                                \n",
       "\n",
       "            US Region  \n",
       "0     Middle Atlantic  \n",
       "1  East South Central  \n",
       "2            Mountain  \n",
       "3             Pacific  \n",
       "4             Pacific  \n",
       "\n",
       "[5 rows x 65 columns]"
      ],
      "text/html": "<div>\n<style scoped>\n    .dataframe tbody tr th:only-of-type {\n        vertical-align: middle;\n    }\n\n    .dataframe tbody tr th {\n        vertical-align: top;\n    }\n\n    .dataframe thead th {\n        text-align: right;\n    }\n</style>\n<table border=\"1\" class=\"dataframe\">\n  <thead>\n    <tr style=\"text-align: right;\">\n      <th></th>\n      <th>RespondentID</th>\n      <th>Do you celebrate Thanksgiving?</th>\n      <th>Main Dish</th>\n      <th>What is typically the main dish at your Thanksgiving dinner? - Other (please specify)</th>\n      <th>How is the main dish typically cooked?</th>\n      <th>How is the main dish typically cooked? - Other (please specify)</th>\n      <th>What kind of stuffing/dressing do you typically have?</th>\n      <th>What kind of stuffing/dressing do you typically have? - Other (please specify)</th>\n      <th>What type of cranberry saucedo you typically have?</th>\n      <th>What type of cranberry saucedo you typically have? - Other (please specify)</th>\n      <th>...</th>\n      <th>Have you ever tried to meet up with hometown friends on Thanksgiving night?</th>\n      <th>Have you ever attended a \"Friendsgiving?\"</th>\n      <th>Will you shop any Black Friday sales on Thanksgiving Day?</th>\n      <th>Do you work in retail?</th>\n      <th>Will you employer make you work on Black Friday?</th>\n      <th>How would you describe where you live?</th>\n      <th>Age</th>\n      <th>What is your gender?</th>\n      <th>How much total combined money did all members of your HOUSEHOLD earn last year?</th>\n      <th>US Region</th>\n    </tr>\n  </thead>\n  <tbody>\n    <tr>\n      <th>0</th>\n      <td>4337954960</td>\n      <td>Yes</td>\n      <td>Turkey</td>\n      <td>NaN</td>\n      <td>Baked</td>\n      <td>NaN</td>\n      <td>Bread-based</td>\n      <td>NaN</td>\n      <td>None</td>\n      <td>NaN</td>\n      <td>...</td>\n      <td>Yes</td>\n      <td>No</td>\n      <td>No</td>\n      <td>No</td>\n      <td>NaN</td>\n      <td>Suburban</td>\n      <td>18 - 29</td>\n      <td>Male</td>\n      <td>$75,000 to $99,999</td>\n      <td>Middle Atlantic</td>\n    </tr>\n    <tr>\n      <th>1</th>\n      <td>4337951949</td>\n      <td>Yes</td>\n      <td>Turkey</td>\n      <td>NaN</td>\n      <td>Baked</td>\n      <td>NaN</td>\n      <td>Bread-based</td>\n      <td>NaN</td>\n      <td>Other (please specify)</td>\n      <td>Homemade cranberry gelatin ring</td>\n      <td>...</td>\n      <td>No</td>\n      <td>No</td>\n      <td>Yes</td>\n      <td>No</td>\n      <td>NaN</td>\n      <td>Rural</td>\n      <td>18 - 29</td>\n      <td>Female</td>\n      <td>$50,000 to $74,999</td>\n      <td>East South Central</td>\n    </tr>\n    <tr>\n      <th>2</th>\n      <td>4337935621</td>\n      <td>Yes</td>\n      <td>Turkey</td>\n      <td>NaN</td>\n      <td>Roasted</td>\n      <td>NaN</td>\n      <td>Rice-based</td>\n      <td>NaN</td>\n      <td>Homemade</td>\n      <td>NaN</td>\n      <td>...</td>\n      <td>Yes</td>\n      <td>Yes</td>\n      <td>Yes</td>\n      <td>No</td>\n      <td>NaN</td>\n      <td>Suburban</td>\n      <td>18 - 29</td>\n      <td>Male</td>\n      <td>$0 to $9,999</td>\n      <td>Mountain</td>\n    </tr>\n    <tr>\n      <th>3</th>\n      <td>4337933040</td>\n      <td>Yes</td>\n      <td>Turkey</td>\n      <td>NaN</td>\n      <td>Baked</td>\n      <td>NaN</td>\n      <td>Bread-based</td>\n      <td>NaN</td>\n      <td>Homemade</td>\n      <td>NaN</td>\n      <td>...</td>\n      <td>Yes</td>\n      <td>No</td>\n      <td>No</td>\n      <td>No</td>\n      <td>NaN</td>\n      <td>Urban</td>\n      <td>30 - 44</td>\n      <td>Male</td>\n      <td>$200,000 and up</td>\n      <td>Pacific</td>\n    </tr>\n    <tr>\n      <th>4</th>\n      <td>4337931983</td>\n      <td>Yes</td>\n      <td>Tofurkey</td>\n      <td>NaN</td>\n      <td>Baked</td>\n      <td>NaN</td>\n      <td>Bread-based</td>\n      <td>NaN</td>\n      <td>Canned</td>\n      <td>NaN</td>\n      <td>...</td>\n      <td>Yes</td>\n      <td>No</td>\n      <td>No</td>\n      <td>No</td>\n      <td>NaN</td>\n      <td>Urban</td>\n      <td>30 - 44</td>\n      <td>Male</td>\n      <td>$100,000 to $124,999</td>\n      <td>Pacific</td>\n    </tr>\n  </tbody>\n</table>\n<p>5 rows × 65 columns</p>\n</div>"
     },
     "metadata": {},
     "execution_count": 3
    }
   ],
   "source": [
    "# Rename columns to shorten the name on dish name to be used\n",
    "renamed_df = Thanksgiving_data_df.rename(columns={'What is typically the main dish at your Thanksgiving dinner?':'Main Dish',\n",
    "                                  'Which of these side dishes aretypically served at your Thanksgiving dinner? Please select all that apply. - Brussel sprouts':'Brussel sprouts',\n",
    "                                  'Which of these side dishes aretypically served at your Thanksgiving dinner? Please select all that apply. - Carrots':'Carrots',\n",
    "                                  'Which of these side dishes aretypically served at your Thanksgiving dinner? Please select all that apply. - Cauliflower':'Cauliflower',\n",
    "                                  'Which of these side dishes aretypically served at your Thanksgiving dinner? Please select all that apply. - Corn':'Corn',\n",
    "                                  'Which of these side dishes aretypically served at your Thanksgiving dinner? Please select all that apply. - Cornbread':'Cornbread',\n",
    "                                  'Which of these side dishes aretypically served at your Thanksgiving dinner? Please select all that apply. - Green beans/green bean casserole':'Green beans',\n",
    "                                  'Which of these side dishes aretypically served at your Thanksgiving dinner? Please select all that apply. - Macaroni and cheese':'Macaroni and cheese',\n",
    "                                  'Which of these side dishes aretypically served at your Thanksgiving dinner? Please select all that apply. - Mashed potatoes':'Mashed potatoes',\n",
    "                                  'Which type of pie is typically served at your Thanksgiving dinner? Please select all that apply. - Apple':'Apple',\n",
    "                                  'Which type of pie is typically served at your Thanksgiving dinner? Please select all that apply. - Cherry':'Cherry',\n",
    "                                  'Which type of pie is typically served at your Thanksgiving dinner? Please select all that apply. - Chocolate':'Chocolate',\n",
    "                                  'Which type of pie is typically served at your Thanksgiving dinner? Please select all that apply. - Coconut cream':'Coconut cream',\n",
    "                                  'Which type of pie is typically served at your Thanksgiving dinner? Please select all that apply. - Key lime':'Key lime',\n",
    "                                  'Which type of pie is typically served at your Thanksgiving dinner? Please select all that apply. - Peach':'Peach',\n",
    "                                  'Which type of pie is typically served at your Thanksgiving dinner? Please select all that apply. - Pecan':'Pecan',\n",
    "                                  'Which type of pie is typically served at your Thanksgiving dinner? Please select all that apply. - Pumpkin':'Pumpkin',\n",
    "                                  'Which type of pie is typically served at your Thanksgiving dinner? Please select all that apply. - Sweet Potato':'Sweet Potato',\n",
    "                                  'Which of these desserts do you typically have at Thanksgiving dinner? Please select all that apply.   - Apple cobbler':'Apple Cobbler',\n",
    "                                  'Which of these desserts do you typically have at Thanksgiving dinner? Please select all that apply.   - Blondies':'Blondies',\n",
    "                                  'Which of these desserts do you typically have at Thanksgiving dinner? Please select all that apply.   - Brownies':'Brownies',\n",
    "                                  'Which of these desserts do you typically have at Thanksgiving dinner? Please select all that apply.   - Carrot cake':'Carrot cake',\n",
    "                                  'Which of these desserts do you typically have at Thanksgiving dinner? Please select all that apply.   - Cheesecake':'Cheesecake',\n",
    "                                  'Which of these desserts do you typically have at Thanksgiving dinner? Please select all that apply.   - Cookies':'Cookies',\n",
    "                                  'Which of these desserts do you typically have at Thanksgiving dinner? Please select all that apply.   - Fudge':'Fudge',\n",
    "                                  'Which of these desserts do you typically have at Thanksgiving dinner? Please select all that apply.   - Ice cream':'Ice cream',\n",
    "                                  'Which of these desserts do you typically have at Thanksgiving dinner? Please select all that apply.   - Peach cobbler':'Peach cobbler'})\n",
    "renamed_df.head()\n"
   ]
  },
  {
   "cell_type": "code",
   "execution_count": 4,
   "metadata": {},
   "outputs": [
    {
     "output_type": "execute_result",
     "data": {
      "text/plain": [
       "  Main Dish  Brussel sprouts  Carrots  Cauliflower  Corn  Cornbread  \\\n",
       "0    Turkey              NaN  Carrots          NaN   NaN        NaN   \n",
       "1    Turkey              NaN      NaN          NaN  Corn        NaN   \n",
       "2    Turkey  Brussel sprouts  Carrots  Cauliflower  Corn  Cornbread   \n",
       "3    Turkey  Brussel sprouts      NaN          NaN   NaN  Cornbread   \n",
       "4  Tofurkey  Brussel sprouts      NaN          NaN   NaN  Cornbread   \n",
       "\n",
       "                        Green beans  Macaroni and cheese  Mashed potatoes  \\\n",
       "0  Green beans/green bean casserole  Macaroni and cheese  Mashed potatoes   \n",
       "1  Green beans/green bean casserole  Macaroni and cheese  Mashed potatoes   \n",
       "2                               NaN                  NaN  Mashed potatoes   \n",
       "3                               NaN                  NaN  Mashed potatoes   \n",
       "4                               NaN                  NaN  Mashed potatoes   \n",
       "\n",
       "   Apple  ...  Sweet Potato Apple Cobbler Blondies  Brownies  Carrot cake  \\\n",
       "0  Apple  ...           NaN           NaN      NaN       NaN          NaN   \n",
       "1  Apple  ...           NaN           NaN      NaN       NaN          NaN   \n",
       "2  Apple  ...  Sweet Potato           NaN      NaN  Brownies  Carrot cake   \n",
       "3    NaN  ...           NaN           NaN      NaN       NaN          NaN   \n",
       "4  Apple  ...           NaN           NaN      NaN       NaN          NaN   \n",
       "\n",
       "   Cheesecake  Cookies  Fudge  Ice cream Peach cobbler  \n",
       "0  Cheesecake  Cookies    NaN  Ice cream           NaN  \n",
       "1  Cheesecake  Cookies    NaN        NaN           NaN  \n",
       "2         NaN  Cookies  Fudge  Ice cream           NaN  \n",
       "3         NaN      NaN    NaN        NaN           NaN  \n",
       "4         NaN      NaN    NaN        NaN           NaN  \n",
       "\n",
       "[5 rows x 27 columns]"
      ],
      "text/html": "<div>\n<style scoped>\n    .dataframe tbody tr th:only-of-type {\n        vertical-align: middle;\n    }\n\n    .dataframe tbody tr th {\n        vertical-align: top;\n    }\n\n    .dataframe thead th {\n        text-align: right;\n    }\n</style>\n<table border=\"1\" class=\"dataframe\">\n  <thead>\n    <tr style=\"text-align: right;\">\n      <th></th>\n      <th>Main Dish</th>\n      <th>Brussel sprouts</th>\n      <th>Carrots</th>\n      <th>Cauliflower</th>\n      <th>Corn</th>\n      <th>Cornbread</th>\n      <th>Green beans</th>\n      <th>Macaroni and cheese</th>\n      <th>Mashed potatoes</th>\n      <th>Apple</th>\n      <th>...</th>\n      <th>Sweet Potato</th>\n      <th>Apple Cobbler</th>\n      <th>Blondies</th>\n      <th>Brownies</th>\n      <th>Carrot cake</th>\n      <th>Cheesecake</th>\n      <th>Cookies</th>\n      <th>Fudge</th>\n      <th>Ice cream</th>\n      <th>Peach cobbler</th>\n    </tr>\n  </thead>\n  <tbody>\n    <tr>\n      <th>0</th>\n      <td>Turkey</td>\n      <td>NaN</td>\n      <td>Carrots</td>\n      <td>NaN</td>\n      <td>NaN</td>\n      <td>NaN</td>\n      <td>Green beans/green bean casserole</td>\n      <td>Macaroni and cheese</td>\n      <td>Mashed potatoes</td>\n      <td>Apple</td>\n      <td>...</td>\n      <td>NaN</td>\n      <td>NaN</td>\n      <td>NaN</td>\n      <td>NaN</td>\n      <td>NaN</td>\n      <td>Cheesecake</td>\n      <td>Cookies</td>\n      <td>NaN</td>\n      <td>Ice cream</td>\n      <td>NaN</td>\n    </tr>\n    <tr>\n      <th>1</th>\n      <td>Turkey</td>\n      <td>NaN</td>\n      <td>NaN</td>\n      <td>NaN</td>\n      <td>Corn</td>\n      <td>NaN</td>\n      <td>Green beans/green bean casserole</td>\n      <td>Macaroni and cheese</td>\n      <td>Mashed potatoes</td>\n      <td>Apple</td>\n      <td>...</td>\n      <td>NaN</td>\n      <td>NaN</td>\n      <td>NaN</td>\n      <td>NaN</td>\n      <td>NaN</td>\n      <td>Cheesecake</td>\n      <td>Cookies</td>\n      <td>NaN</td>\n      <td>NaN</td>\n      <td>NaN</td>\n    </tr>\n    <tr>\n      <th>2</th>\n      <td>Turkey</td>\n      <td>Brussel sprouts</td>\n      <td>Carrots</td>\n      <td>Cauliflower</td>\n      <td>Corn</td>\n      <td>Cornbread</td>\n      <td>NaN</td>\n      <td>NaN</td>\n      <td>Mashed potatoes</td>\n      <td>Apple</td>\n      <td>...</td>\n      <td>Sweet Potato</td>\n      <td>NaN</td>\n      <td>NaN</td>\n      <td>Brownies</td>\n      <td>Carrot cake</td>\n      <td>NaN</td>\n      <td>Cookies</td>\n      <td>Fudge</td>\n      <td>Ice cream</td>\n      <td>NaN</td>\n    </tr>\n    <tr>\n      <th>3</th>\n      <td>Turkey</td>\n      <td>Brussel sprouts</td>\n      <td>NaN</td>\n      <td>NaN</td>\n      <td>NaN</td>\n      <td>Cornbread</td>\n      <td>NaN</td>\n      <td>NaN</td>\n      <td>Mashed potatoes</td>\n      <td>NaN</td>\n      <td>...</td>\n      <td>NaN</td>\n      <td>NaN</td>\n      <td>NaN</td>\n      <td>NaN</td>\n      <td>NaN</td>\n      <td>NaN</td>\n      <td>NaN</td>\n      <td>NaN</td>\n      <td>NaN</td>\n      <td>NaN</td>\n    </tr>\n    <tr>\n      <th>4</th>\n      <td>Tofurkey</td>\n      <td>Brussel sprouts</td>\n      <td>NaN</td>\n      <td>NaN</td>\n      <td>NaN</td>\n      <td>Cornbread</td>\n      <td>NaN</td>\n      <td>NaN</td>\n      <td>Mashed potatoes</td>\n      <td>Apple</td>\n      <td>...</td>\n      <td>NaN</td>\n      <td>NaN</td>\n      <td>NaN</td>\n      <td>NaN</td>\n      <td>NaN</td>\n      <td>NaN</td>\n      <td>NaN</td>\n      <td>NaN</td>\n      <td>NaN</td>\n      <td>NaN</td>\n    </tr>\n  </tbody>\n</table>\n<p>5 rows × 27 columns</p>\n</div>"
     },
     "metadata": {},
     "execution_count": 4
    }
   ],
   "source": [
    "# Select only the columns to be used\n",
    "Thanksgiving_df = renamed_df[['Main Dish','Brussel sprouts','Carrots','Cauliflower','Corn','Cornbread','Green beans','Macaroni and cheese','Mashed potatoes',\n",
    "                              'Apple','Cherry','Chocolate','Coconut cream','Key lime','Peach','Pecan','Pumpkin','Sweet Potato',\n",
    "                              'Apple Cobbler','Blondies','Brownies','Carrot cake','Cheesecake','Cookies','Fudge','Ice cream','Peach cobbler']]\n",
    "Thanksgiving_df.head()"
   ]
  },
  {
   "cell_type": "code",
   "execution_count": 5,
   "metadata": {},
   "outputs": [
    {
     "output_type": "execute_result",
     "data": {
      "text/plain": [
       "['Turkey',\n",
       " 'Tofurkey',\n",
       " 'Other (please specify)',\n",
       " nan,\n",
       " 'Ham/Pork',\n",
       " 'Turducken',\n",
       " 'Roast beef',\n",
       " 'Chicken',\n",
       " \"I don't know\"]"
      ]
     },
     "metadata": {},
     "execution_count": 5
    }
   ],
   "source": [
    "# List of Main Dish \n",
    "maindish_df = Thanksgiving_df[['Main Dish']].copy()\n",
    "dropped_maindish_df = maindish_df.drop_duplicates()\n",
    "maindish_list = dropped_maindish_df['Main Dish'].tolist()\n",
    "maindish_list"
   ]
  },
  {
   "cell_type": "code",
   "execution_count": 6,
   "metadata": {},
   "outputs": [
    {
     "output_type": "execute_result",
     "data": {
      "text/plain": [
       "            Count\n",
       "Main Dish        \n",
       "Turkey        859\n",
       "Tofurkey       20\n",
       "Ham/Pork       29\n",
       "Turducken       3\n",
       "Roast beef     11\n",
       "Chicken        12"
      ],
      "text/html": "<div>\n<style scoped>\n    .dataframe tbody tr th:only-of-type {\n        vertical-align: middle;\n    }\n\n    .dataframe tbody tr th {\n        vertical-align: top;\n    }\n\n    .dataframe thead th {\n        text-align: right;\n    }\n</style>\n<table border=\"1\" class=\"dataframe\">\n  <thead>\n    <tr style=\"text-align: right;\">\n      <th></th>\n      <th>Count</th>\n    </tr>\n    <tr>\n      <th>Main Dish</th>\n      <th></th>\n    </tr>\n  </thead>\n  <tbody>\n    <tr>\n      <th>Turkey</th>\n      <td>859</td>\n    </tr>\n    <tr>\n      <th>Tofurkey</th>\n      <td>20</td>\n    </tr>\n    <tr>\n      <th>Ham/Pork</th>\n      <td>29</td>\n    </tr>\n    <tr>\n      <th>Turducken</th>\n      <td>3</td>\n    </tr>\n    <tr>\n      <th>Roast beef</th>\n      <td>11</td>\n    </tr>\n    <tr>\n      <th>Chicken</th>\n      <td>12</td>\n    </tr>\n  </tbody>\n</table>\n</div>"
     },
     "metadata": {},
     "execution_count": 6
    }
   ],
   "source": [
    "# group by, count, rename, dropping the \"Other\" and \"I don't know\" rows to get count for each Main Dish:\n",
    "maindish_group = maindish_df.groupby(['Main Dish'], sort=False)\n",
    "maindish_count = maindish_group['Main Dish'].count()\n",
    "maindish_count = pd.DataFrame(maindish_count)\n",
    "maindish_rename = maindish_count.rename(columns={'Main Dish':'Count'})\n",
    "drop1 = maindish_rename.drop(index=\"Other (please specify)\")\n",
    "maindish_count_df = drop1.drop(index=\"I don't know\")\n",
    "maindish_count_df\n"
   ]
  },
  {
   "cell_type": "code",
   "execution_count": 7,
   "metadata": {},
   "outputs": [
    {
     "output_type": "stream",
     "name": "stdout",
     "text": [
      "['Turkey', 'Tofurkey', 'Ham/Pork', 'Turducken', 'Roast beef', 'Chicken']\n"
     ]
    }
   ],
   "source": [
    "#create a list of the main dishes using the index from the dataframe:\n",
    "main_list = maindish_count_df.index.tolist()\n",
    "print(main_list)"
   ]
  },
  {
   "cell_type": "code",
   "execution_count": 8,
   "metadata": {},
   "outputs": [
    {
     "output_type": "stream",
     "name": "stdout",
     "text": [
      "{'Main': ['Turkey', 'Tofurkey', 'Ham/Pork', 'Turducken', 'Roast beef', 'Chicken']}\n"
     ]
    }
   ],
   "source": [
    "#create a dictionary to be loaded into a database with \"Main\" as the key and the above list as the values:\n",
    "main_dict = {'Main': main_list}\n",
    "print(main_dict)"
   ]
  },
  {
   "cell_type": "code",
   "execution_count": 9,
   "metadata": {},
   "outputs": [
    {
     "output_type": "execute_result",
     "data": {
      "text/plain": [
       "   Brussel sprouts  Carrots  Cauliflower  Corn  Cornbread  \\\n",
       "0              NaN  Carrots          NaN   NaN        NaN   \n",
       "1              NaN      NaN          NaN  Corn        NaN   \n",
       "2  Brussel sprouts  Carrots  Cauliflower  Corn  Cornbread   \n",
       "3  Brussel sprouts      NaN          NaN   NaN  Cornbread   \n",
       "4  Brussel sprouts      NaN          NaN   NaN  Cornbread   \n",
       "\n",
       "                        Green beans  Macaroni and cheese  Mashed potatoes  \n",
       "0  Green beans/green bean casserole  Macaroni and cheese  Mashed potatoes  \n",
       "1  Green beans/green bean casserole  Macaroni and cheese  Mashed potatoes  \n",
       "2                               NaN                  NaN  Mashed potatoes  \n",
       "3                               NaN                  NaN  Mashed potatoes  \n",
       "4                               NaN                  NaN  Mashed potatoes  "
      ],
      "text/html": "<div>\n<style scoped>\n    .dataframe tbody tr th:only-of-type {\n        vertical-align: middle;\n    }\n\n    .dataframe tbody tr th {\n        vertical-align: top;\n    }\n\n    .dataframe thead th {\n        text-align: right;\n    }\n</style>\n<table border=\"1\" class=\"dataframe\">\n  <thead>\n    <tr style=\"text-align: right;\">\n      <th></th>\n      <th>Brussel sprouts</th>\n      <th>Carrots</th>\n      <th>Cauliflower</th>\n      <th>Corn</th>\n      <th>Cornbread</th>\n      <th>Green beans</th>\n      <th>Macaroni and cheese</th>\n      <th>Mashed potatoes</th>\n    </tr>\n  </thead>\n  <tbody>\n    <tr>\n      <th>0</th>\n      <td>NaN</td>\n      <td>Carrots</td>\n      <td>NaN</td>\n      <td>NaN</td>\n      <td>NaN</td>\n      <td>Green beans/green bean casserole</td>\n      <td>Macaroni and cheese</td>\n      <td>Mashed potatoes</td>\n    </tr>\n    <tr>\n      <th>1</th>\n      <td>NaN</td>\n      <td>NaN</td>\n      <td>NaN</td>\n      <td>Corn</td>\n      <td>NaN</td>\n      <td>Green beans/green bean casserole</td>\n      <td>Macaroni and cheese</td>\n      <td>Mashed potatoes</td>\n    </tr>\n    <tr>\n      <th>2</th>\n      <td>Brussel sprouts</td>\n      <td>Carrots</td>\n      <td>Cauliflower</td>\n      <td>Corn</td>\n      <td>Cornbread</td>\n      <td>NaN</td>\n      <td>NaN</td>\n      <td>Mashed potatoes</td>\n    </tr>\n    <tr>\n      <th>3</th>\n      <td>Brussel sprouts</td>\n      <td>NaN</td>\n      <td>NaN</td>\n      <td>NaN</td>\n      <td>Cornbread</td>\n      <td>NaN</td>\n      <td>NaN</td>\n      <td>Mashed potatoes</td>\n    </tr>\n    <tr>\n      <th>4</th>\n      <td>Brussel sprouts</td>\n      <td>NaN</td>\n      <td>NaN</td>\n      <td>NaN</td>\n      <td>Cornbread</td>\n      <td>NaN</td>\n      <td>NaN</td>\n      <td>Mashed potatoes</td>\n    </tr>\n  </tbody>\n</table>\n</div>"
     },
     "metadata": {},
     "execution_count": 9
    }
   ],
   "source": [
    "# Select Side Dishes\n",
    "sides_df = Thanksgiving_df[['Brussel sprouts','Carrots','Cauliflower','Corn','Cornbread',\n",
    "                            'Green beans','Macaroni and cheese','Mashed potatoes']]\n",
    "sides_df.head()\n"
   ]
  },
  {
   "cell_type": "code",
   "execution_count": 10,
   "metadata": {},
   "outputs": [
    {
     "output_type": "execute_result",
     "data": {
      "text/plain": [
       "                    0     1                2                3     \\\n",
       "Brussel sprouts      NaN   NaN  Brussel sprouts  Brussel sprouts   \n",
       "Carrots          Carrots   NaN          Carrots              NaN   \n",
       "Cauliflower          NaN   NaN      Cauliflower              NaN   \n",
       "Corn                 NaN  Corn             Corn              NaN   \n",
       "Cornbread            NaN   NaN        Cornbread        Cornbread   \n",
       "\n",
       "                            4                5    6        7     \\\n",
       "Brussel sprouts  Brussel sprouts  Brussel sprouts  NaN      NaN   \n",
       "Carrots                      NaN          Carrots  NaN  Carrots   \n",
       "Cauliflower                  NaN      Cauliflower  NaN      NaN   \n",
       "Corn                         NaN             Corn  NaN      NaN   \n",
       "Cornbread              Cornbread        Cornbread  NaN      NaN   \n",
       "\n",
       "                            8                9     ...  1048       1049  1050  \\\n",
       "Brussel sprouts  Brussel sprouts  Brussel sprouts  ...   NaN        NaN   NaN   \n",
       "Carrots                      NaN          Carrots  ...   NaN        NaN   NaN   \n",
       "Cauliflower                  NaN              NaN  ...   NaN        NaN   NaN   \n",
       "Corn                        Corn              NaN  ...  Corn        NaN  Corn   \n",
       "Cornbread              Cornbread              NaN  ...   NaN  Cornbread   NaN   \n",
       "\n",
       "                 1051 1052 1053  1054 1055 1056  1057  \n",
       "Brussel sprouts   NaN  NaN  NaN   NaN  NaN  NaN   NaN  \n",
       "Carrots           NaN  NaN  NaN   NaN  NaN  NaN   NaN  \n",
       "Cauliflower       NaN  NaN  NaN   NaN  NaN  NaN   NaN  \n",
       "Corn             Corn  NaN  NaN  Corn  NaN  NaN  Corn  \n",
       "Cornbread         NaN  NaN  NaN   NaN  NaN  NaN   NaN  \n",
       "\n",
       "[5 rows x 1058 columns]"
      ],
      "text/html": "<div>\n<style scoped>\n    .dataframe tbody tr th:only-of-type {\n        vertical-align: middle;\n    }\n\n    .dataframe tbody tr th {\n        vertical-align: top;\n    }\n\n    .dataframe thead th {\n        text-align: right;\n    }\n</style>\n<table border=\"1\" class=\"dataframe\">\n  <thead>\n    <tr style=\"text-align: right;\">\n      <th></th>\n      <th>0</th>\n      <th>1</th>\n      <th>2</th>\n      <th>3</th>\n      <th>4</th>\n      <th>5</th>\n      <th>6</th>\n      <th>7</th>\n      <th>8</th>\n      <th>9</th>\n      <th>...</th>\n      <th>1048</th>\n      <th>1049</th>\n      <th>1050</th>\n      <th>1051</th>\n      <th>1052</th>\n      <th>1053</th>\n      <th>1054</th>\n      <th>1055</th>\n      <th>1056</th>\n      <th>1057</th>\n    </tr>\n  </thead>\n  <tbody>\n    <tr>\n      <th>Brussel sprouts</th>\n      <td>NaN</td>\n      <td>NaN</td>\n      <td>Brussel sprouts</td>\n      <td>Brussel sprouts</td>\n      <td>Brussel sprouts</td>\n      <td>Brussel sprouts</td>\n      <td>NaN</td>\n      <td>NaN</td>\n      <td>Brussel sprouts</td>\n      <td>Brussel sprouts</td>\n      <td>...</td>\n      <td>NaN</td>\n      <td>NaN</td>\n      <td>NaN</td>\n      <td>NaN</td>\n      <td>NaN</td>\n      <td>NaN</td>\n      <td>NaN</td>\n      <td>NaN</td>\n      <td>NaN</td>\n      <td>NaN</td>\n    </tr>\n    <tr>\n      <th>Carrots</th>\n      <td>Carrots</td>\n      <td>NaN</td>\n      <td>Carrots</td>\n      <td>NaN</td>\n      <td>NaN</td>\n      <td>Carrots</td>\n      <td>NaN</td>\n      <td>Carrots</td>\n      <td>NaN</td>\n      <td>Carrots</td>\n      <td>...</td>\n      <td>NaN</td>\n      <td>NaN</td>\n      <td>NaN</td>\n      <td>NaN</td>\n      <td>NaN</td>\n      <td>NaN</td>\n      <td>NaN</td>\n      <td>NaN</td>\n      <td>NaN</td>\n      <td>NaN</td>\n    </tr>\n    <tr>\n      <th>Cauliflower</th>\n      <td>NaN</td>\n      <td>NaN</td>\n      <td>Cauliflower</td>\n      <td>NaN</td>\n      <td>NaN</td>\n      <td>Cauliflower</td>\n      <td>NaN</td>\n      <td>NaN</td>\n      <td>NaN</td>\n      <td>NaN</td>\n      <td>...</td>\n      <td>NaN</td>\n      <td>NaN</td>\n      <td>NaN</td>\n      <td>NaN</td>\n      <td>NaN</td>\n      <td>NaN</td>\n      <td>NaN</td>\n      <td>NaN</td>\n      <td>NaN</td>\n      <td>NaN</td>\n    </tr>\n    <tr>\n      <th>Corn</th>\n      <td>NaN</td>\n      <td>Corn</td>\n      <td>Corn</td>\n      <td>NaN</td>\n      <td>NaN</td>\n      <td>Corn</td>\n      <td>NaN</td>\n      <td>NaN</td>\n      <td>Corn</td>\n      <td>NaN</td>\n      <td>...</td>\n      <td>Corn</td>\n      <td>NaN</td>\n      <td>Corn</td>\n      <td>Corn</td>\n      <td>NaN</td>\n      <td>NaN</td>\n      <td>Corn</td>\n      <td>NaN</td>\n      <td>NaN</td>\n      <td>Corn</td>\n    </tr>\n    <tr>\n      <th>Cornbread</th>\n      <td>NaN</td>\n      <td>NaN</td>\n      <td>Cornbread</td>\n      <td>Cornbread</td>\n      <td>Cornbread</td>\n      <td>Cornbread</td>\n      <td>NaN</td>\n      <td>NaN</td>\n      <td>Cornbread</td>\n      <td>NaN</td>\n      <td>...</td>\n      <td>NaN</td>\n      <td>Cornbread</td>\n      <td>NaN</td>\n      <td>NaN</td>\n      <td>NaN</td>\n      <td>NaN</td>\n      <td>NaN</td>\n      <td>NaN</td>\n      <td>NaN</td>\n      <td>NaN</td>\n    </tr>\n  </tbody>\n</table>\n<p>5 rows × 1058 columns</p>\n</div>"
     },
     "metadata": {},
     "execution_count": 10
    }
   ],
   "source": [
    "# transpose and index to get list of Side Dishes\n",
    "tsides_df = sides_df.T\n",
    "\n",
    "tsides_df.index\n",
    "\n",
    "tsides_df.head()\n"
   ]
  },
  {
   "cell_type": "code",
   "execution_count": 11,
   "metadata": {},
   "outputs": [
    {
     "output_type": "stream",
     "name": "stdout",
     "text": [
      "{'Side': ['Brussel sprouts', 'Carrots', 'Cauliflower', 'Corn', 'Cornbread', 'Green beans', 'Macaroni and cheese', 'Mashed potatoes']}\n"
     ]
    }
   ],
   "source": [
    "#create a list of the side dishes using the index from the dataframe:\n",
    "side_list = tsides_df.index.tolist()\n",
    "\n",
    "#create a dictionary to be loaded into a database with \"Side\" as the key and the above list as the values:\n",
    "side_dict = {'Side':side_list}\n",
    "print(side_dict)"
   ]
  },
  {
   "cell_type": "code",
   "execution_count": 12,
   "metadata": {},
   "outputs": [
    {
     "output_type": "execute_result",
     "data": {
      "text/plain": [
       "  Apple Cobbler Blondies  Brownies  Carrot cake  Cheesecake  Cookies  Fudge  \\\n",
       "0           NaN      NaN       NaN          NaN  Cheesecake  Cookies    NaN   \n",
       "1           NaN      NaN       NaN          NaN  Cheesecake  Cookies    NaN   \n",
       "2           NaN      NaN  Brownies  Carrot cake         NaN  Cookies  Fudge   \n",
       "3           NaN      NaN       NaN          NaN         NaN      NaN    NaN   \n",
       "4           NaN      NaN       NaN          NaN         NaN      NaN    NaN   \n",
       "\n",
       "   Ice cream Peach cobbler  \n",
       "0  Ice cream           NaN  \n",
       "1        NaN           NaN  \n",
       "2  Ice cream           NaN  \n",
       "3        NaN           NaN  \n",
       "4        NaN           NaN  "
      ],
      "text/html": "<div>\n<style scoped>\n    .dataframe tbody tr th:only-of-type {\n        vertical-align: middle;\n    }\n\n    .dataframe tbody tr th {\n        vertical-align: top;\n    }\n\n    .dataframe thead th {\n        text-align: right;\n    }\n</style>\n<table border=\"1\" class=\"dataframe\">\n  <thead>\n    <tr style=\"text-align: right;\">\n      <th></th>\n      <th>Apple Cobbler</th>\n      <th>Blondies</th>\n      <th>Brownies</th>\n      <th>Carrot cake</th>\n      <th>Cheesecake</th>\n      <th>Cookies</th>\n      <th>Fudge</th>\n      <th>Ice cream</th>\n      <th>Peach cobbler</th>\n    </tr>\n  </thead>\n  <tbody>\n    <tr>\n      <th>0</th>\n      <td>NaN</td>\n      <td>NaN</td>\n      <td>NaN</td>\n      <td>NaN</td>\n      <td>Cheesecake</td>\n      <td>Cookies</td>\n      <td>NaN</td>\n      <td>Ice cream</td>\n      <td>NaN</td>\n    </tr>\n    <tr>\n      <th>1</th>\n      <td>NaN</td>\n      <td>NaN</td>\n      <td>NaN</td>\n      <td>NaN</td>\n      <td>Cheesecake</td>\n      <td>Cookies</td>\n      <td>NaN</td>\n      <td>NaN</td>\n      <td>NaN</td>\n    </tr>\n    <tr>\n      <th>2</th>\n      <td>NaN</td>\n      <td>NaN</td>\n      <td>Brownies</td>\n      <td>Carrot cake</td>\n      <td>NaN</td>\n      <td>Cookies</td>\n      <td>Fudge</td>\n      <td>Ice cream</td>\n      <td>NaN</td>\n    </tr>\n    <tr>\n      <th>3</th>\n      <td>NaN</td>\n      <td>NaN</td>\n      <td>NaN</td>\n      <td>NaN</td>\n      <td>NaN</td>\n      <td>NaN</td>\n      <td>NaN</td>\n      <td>NaN</td>\n      <td>NaN</td>\n    </tr>\n    <tr>\n      <th>4</th>\n      <td>NaN</td>\n      <td>NaN</td>\n      <td>NaN</td>\n      <td>NaN</td>\n      <td>NaN</td>\n      <td>NaN</td>\n      <td>NaN</td>\n      <td>NaN</td>\n      <td>NaN</td>\n    </tr>\n  </tbody>\n</table>\n</div>"
     },
     "metadata": {},
     "execution_count": 12
    }
   ],
   "source": [
    "# Select desserts\n",
    "dessert_df = Thanksgiving_df[['Apple Cobbler','Blondies','Brownies','Carrot cake','Cheesecake',\n",
    "                              'Cookies','Fudge','Ice cream','Peach cobbler']]\n",
    "dessert_df.head()\n"
   ]
  },
  {
   "cell_type": "code",
   "execution_count": 13,
   "metadata": {},
   "outputs": [
    {
     "output_type": "stream",
     "name": "stdout",
     "text": [
      "{'Dessert': ['Apple Cobbler', 'Blondies', 'Brownies', 'Carrot cake', 'Cheesecake', 'Cookies', 'Fudge', 'Ice cream', 'Peach cobbler']}\n"
     ]
    }
   ],
   "source": [
    "# transpose and index to get list of desserts\n",
    "tdessert_df = dessert_df.T\n",
    "\n",
    "#create a list of the dessert dishes using the index from the dataframe:\n",
    "dessert_list = tdessert_df.index.tolist()\n",
    "\n",
    "#create a dictionary to be loaded into a database with \"Dessert\" as the key and the above list as the values:\n",
    "dessert_dict = {'Dessert': dessert_list}\n",
    "#tdessert_df\n",
    "\n",
    "print(dessert_dict)\n"
   ]
  },
  {
   "cell_type": "code",
   "execution_count": 14,
   "metadata": {},
   "outputs": [
    {
     "output_type": "error",
     "ename": "SyntaxError",
     "evalue": "invalid syntax (<ipython-input-14-1d39a19d42e2>, line 2)",
     "traceback": [
      "\u001b[1;36m  File \u001b[1;32m\"<ipython-input-14-1d39a19d42e2>\"\u001b[1;36m, line \u001b[1;32m2\u001b[0m\n\u001b[1;33m    dessert_group = dessert_df.groupby(, axis=0, sort=False)\u001b[0m\n\u001b[1;37m                                       ^\u001b[0m\n\u001b[1;31mSyntaxError\u001b[0m\u001b[1;31m:\u001b[0m invalid syntax\n"
     ]
    }
   ],
   "source": [
    "# group by and count for any single side dish, pie, or dessert\n",
    "dessert_group = dessert_df.groupby(, axis=0, sort=False)\n",
    "dessert_count = dessert_group['Apple Cobbler'].count()\n",
    "dessert_count\n"
   ]
  },
  {
   "cell_type": "code",
   "execution_count": 15,
   "metadata": {
    "scrolled": false
   },
   "outputs": [
    {
     "output_type": "execute_result",
     "data": {
      "text/plain": [
       "                           Name  \\\n",
       "0                 Christmas pie   \n",
       "1  Simmer-&-stir Christmas cake   \n",
       "2            Christmas cupcakes   \n",
       "3                Christmas buns   \n",
       "4            Christmas cupcakes   \n",
       "\n",
       "                                                 url  \\\n",
       "0  https://www.bbcgoodfood.com/recipes/2793/chris...   \n",
       "1  https://www.bbcgoodfood.com/recipes/1160/simme...   \n",
       "2  https://www.bbcgoodfood.com/recipes/72622/chri...   \n",
       "3  https://www.bbcgoodfood.com/recipes/1803633/ch...   \n",
       "4  https://www.bbcgoodfood.com/recipes/981634/chr...   \n",
       "\n",
       "                                         Description            Author  \\\n",
       "0  Combine a few key Christmas flavours here to m...      Mary Cadogan   \n",
       "1  An easy-to-make alternative to traditional Chr...      Mary Cadogan   \n",
       "2  These beautiful and classy little cakes make l...     Sara Buenfeld   \n",
       "3  Paul Hollywood's fruit rolls can be made ahead...    Paul Hollywood   \n",
       "4  Made these for the second time today, and I ha...  Barney Desmazery   \n",
       "\n",
       "                                         Ingredients  \\\n",
       "0  [2 tbsp olive oil, knob butter, 1 onion, finel...   \n",
       "1  [175g butter, chopped, 200g dark muscovado sug...   \n",
       "2  [200g dark muscovado sugar, 175g butter, chopp...   \n",
       "3  [500g strong white flour, plus extra for dusti...   \n",
       "4  [280g self-raising flour, 175g golden caster s...   \n",
       "\n",
       "                                              Method  \n",
       "0  [Heat oven to 190C/fan 170C/gas 5. Heat 1 tbsp...  \n",
       "1  [Put the butter, sugar, fruit, zests, juice an...  \n",
       "2  [Tip the sugar, butter, dried fruit, whole che...  \n",
       "3  [Put the flour and 1 tsp salt into a large bow...  \n",
       "4  [Heat oven to 190C/170 fan/gas 5 and line a 12...  "
      ],
      "text/html": "<div>\n<style scoped>\n    .dataframe tbody tr th:only-of-type {\n        vertical-align: middle;\n    }\n\n    .dataframe tbody tr th {\n        vertical-align: top;\n    }\n\n    .dataframe thead th {\n        text-align: right;\n    }\n</style>\n<table border=\"1\" class=\"dataframe\">\n  <thead>\n    <tr style=\"text-align: right;\">\n      <th></th>\n      <th>Name</th>\n      <th>url</th>\n      <th>Description</th>\n      <th>Author</th>\n      <th>Ingredients</th>\n      <th>Method</th>\n    </tr>\n  </thead>\n  <tbody>\n    <tr>\n      <th>0</th>\n      <td>Christmas pie</td>\n      <td>https://www.bbcgoodfood.com/recipes/2793/chris...</td>\n      <td>Combine a few key Christmas flavours here to m...</td>\n      <td>Mary Cadogan</td>\n      <td>[2 tbsp olive oil, knob butter, 1 onion, finel...</td>\n      <td>[Heat oven to 190C/fan 170C/gas 5. Heat 1 tbsp...</td>\n    </tr>\n    <tr>\n      <th>1</th>\n      <td>Simmer-&amp;-stir Christmas cake</td>\n      <td>https://www.bbcgoodfood.com/recipes/1160/simme...</td>\n      <td>An easy-to-make alternative to traditional Chr...</td>\n      <td>Mary Cadogan</td>\n      <td>[175g butter, chopped, 200g dark muscovado sug...</td>\n      <td>[Put the butter, sugar, fruit, zests, juice an...</td>\n    </tr>\n    <tr>\n      <th>2</th>\n      <td>Christmas cupcakes</td>\n      <td>https://www.bbcgoodfood.com/recipes/72622/chri...</td>\n      <td>These beautiful and classy little cakes make l...</td>\n      <td>Sara Buenfeld</td>\n      <td>[200g dark muscovado sugar, 175g butter, chopp...</td>\n      <td>[Tip the sugar, butter, dried fruit, whole che...</td>\n    </tr>\n    <tr>\n      <th>3</th>\n      <td>Christmas buns</td>\n      <td>https://www.bbcgoodfood.com/recipes/1803633/ch...</td>\n      <td>Paul Hollywood's fruit rolls can be made ahead...</td>\n      <td>Paul Hollywood</td>\n      <td>[500g strong white flour, plus extra for dusti...</td>\n      <td>[Put the flour and 1 tsp salt into a large bow...</td>\n    </tr>\n    <tr>\n      <th>4</th>\n      <td>Christmas cupcakes</td>\n      <td>https://www.bbcgoodfood.com/recipes/981634/chr...</td>\n      <td>Made these for the second time today, and I ha...</td>\n      <td>Barney Desmazery</td>\n      <td>[280g self-raising flour, 175g golden caster s...</td>\n      <td>[Heat oven to 190C/170 fan/gas 5 and line a 12...</td>\n    </tr>\n  </tbody>\n</table>\n</div>"
     },
     "metadata": {},
     "execution_count": 15
    }
   ],
   "source": [
    "#read in json file, adding in the \"lines=True\" condition as each item in the file is a separate dictionary\n",
    "json_file = \"Resources/recipes.json\"\n",
    "recipe_data_df = pd.read_json(json_file, lines=True)\n",
    "recipe_data_df.head()\n",
    "\n",
    "\n",
    "    "
   ]
  },
  {
   "cell_type": "code",
   "execution_count": 16,
   "metadata": {},
   "outputs": [
    {
     "output_type": "execute_result",
     "data": {
      "text/plain": [
       "                              Name  \\\n",
       "0                    Christmas pie   \n",
       "1     Simmer-&-stir Christmas cake   \n",
       "2               Christmas cupcakes   \n",
       "3                   Christmas buns   \n",
       "4               Christmas cupcakes   \n",
       "...                            ...   \n",
       "1612             Flavoured butters   \n",
       "1613             Crispy Roast Duck   \n",
       "1614        Smoked salmon kedgeree   \n",
       "1615             Spicy potted crab   \n",
       "1616          Sage and Onion Sauce   \n",
       "\n",
       "                                                    url  \\\n",
       "0     https://www.bbcgoodfood.com/recipes/2793/chris...   \n",
       "1     https://www.bbcgoodfood.com/recipes/1160/simme...   \n",
       "2     https://www.bbcgoodfood.com/recipes/72622/chri...   \n",
       "3     https://www.bbcgoodfood.com/recipes/1803633/ch...   \n",
       "4     https://www.bbcgoodfood.com/recipes/981634/chr...   \n",
       "...                                                 ...   \n",
       "1612  https://www.bbcgoodfood.com/recipes/1911/flavo...   \n",
       "1613  https://www.bbcgoodfood.com/recipes/3248/crisp...   \n",
       "1614  https://www.bbcgoodfood.com/recipes/3047/smoke...   \n",
       "1615  https://www.bbcgoodfood.com/recipes/1797/spicy...   \n",
       "1616  https://www.bbcgoodfood.com/recipes/3250/sage-...   \n",
       "\n",
       "                                            Ingredients  \n",
       "0     [2 tbsp olive oil, knob butter, 1 onion, finel...  \n",
       "1     [175g butter, chopped, 200g dark muscovado sug...  \n",
       "2     [200g dark muscovado sugar, 175g butter, chopp...  \n",
       "3     [500g strong white flour, plus extra for dusti...  \n",
       "4     [280g self-raising flour, 175g golden caster s...  \n",
       "...                                                 ...  \n",
       "1612  [100g softened butter, 2-3 tbsp chopped fresh ...  \n",
       "1613  [3 medium-sized duckss (each about 2¼kg/5lb), ...  \n",
       "1614  [300g basmati rice, 8 eggs, 400g pack sliced s...  \n",
       "1615  [6 x 250g pkts unsalted butter, 2 tsp hot chil...  \n",
       "1616  [all the innards, wings and bones from the duc...  \n",
       "\n",
       "[1617 rows x 3 columns]"
      ],
      "text/html": "<div>\n<style scoped>\n    .dataframe tbody tr th:only-of-type {\n        vertical-align: middle;\n    }\n\n    .dataframe tbody tr th {\n        vertical-align: top;\n    }\n\n    .dataframe thead th {\n        text-align: right;\n    }\n</style>\n<table border=\"1\" class=\"dataframe\">\n  <thead>\n    <tr style=\"text-align: right;\">\n      <th></th>\n      <th>Name</th>\n      <th>url</th>\n      <th>Ingredients</th>\n    </tr>\n  </thead>\n  <tbody>\n    <tr>\n      <th>0</th>\n      <td>Christmas pie</td>\n      <td>https://www.bbcgoodfood.com/recipes/2793/chris...</td>\n      <td>[2 tbsp olive oil, knob butter, 1 onion, finel...</td>\n    </tr>\n    <tr>\n      <th>1</th>\n      <td>Simmer-&amp;-stir Christmas cake</td>\n      <td>https://www.bbcgoodfood.com/recipes/1160/simme...</td>\n      <td>[175g butter, chopped, 200g dark muscovado sug...</td>\n    </tr>\n    <tr>\n      <th>2</th>\n      <td>Christmas cupcakes</td>\n      <td>https://www.bbcgoodfood.com/recipes/72622/chri...</td>\n      <td>[200g dark muscovado sugar, 175g butter, chopp...</td>\n    </tr>\n    <tr>\n      <th>3</th>\n      <td>Christmas buns</td>\n      <td>https://www.bbcgoodfood.com/recipes/1803633/ch...</td>\n      <td>[500g strong white flour, plus extra for dusti...</td>\n    </tr>\n    <tr>\n      <th>4</th>\n      <td>Christmas cupcakes</td>\n      <td>https://www.bbcgoodfood.com/recipes/981634/chr...</td>\n      <td>[280g self-raising flour, 175g golden caster s...</td>\n    </tr>\n    <tr>\n      <th>...</th>\n      <td>...</td>\n      <td>...</td>\n      <td>...</td>\n    </tr>\n    <tr>\n      <th>1612</th>\n      <td>Flavoured butters</td>\n      <td>https://www.bbcgoodfood.com/recipes/1911/flavo...</td>\n      <td>[100g softened butter, 2-3 tbsp chopped fresh ...</td>\n    </tr>\n    <tr>\n      <th>1613</th>\n      <td>Crispy Roast Duck</td>\n      <td>https://www.bbcgoodfood.com/recipes/3248/crisp...</td>\n      <td>[3 medium-sized duckss (each about 2¼kg/5lb), ...</td>\n    </tr>\n    <tr>\n      <th>1614</th>\n      <td>Smoked salmon kedgeree</td>\n      <td>https://www.bbcgoodfood.com/recipes/3047/smoke...</td>\n      <td>[300g basmati rice, 8 eggs, 400g pack sliced s...</td>\n    </tr>\n    <tr>\n      <th>1615</th>\n      <td>Spicy potted crab</td>\n      <td>https://www.bbcgoodfood.com/recipes/1797/spicy...</td>\n      <td>[6 x 250g pkts unsalted butter, 2 tsp hot chil...</td>\n    </tr>\n    <tr>\n      <th>1616</th>\n      <td>Sage and Onion Sauce</td>\n      <td>https://www.bbcgoodfood.com/recipes/3250/sage-...</td>\n      <td>[all the innards, wings and bones from the duc...</td>\n    </tr>\n  </tbody>\n</table>\n<p>1617 rows × 3 columns</p>\n</div>"
     },
     "metadata": {},
     "execution_count": 16
    }
   ],
   "source": [
    "#create a new dataframe with only the Name, url, and Ingredients columns:\n",
    "filtered_recipe_df = recipe_data_df[['Name','url','Ingredients']]\n",
    "filtered_recipe_df"
   ]
  },
  {
   "cell_type": "code",
   "execution_count": 17,
   "metadata": {},
   "outputs": [],
   "source": [
    "#establish connection to MongoDB via pymongo:\n",
    "conn = 'mongodb://localhost:27017'\n",
    "client = pymongo.MongoClient(conn)\n"
   ]
  },
  {
   "cell_type": "code",
   "execution_count": 18,
   "metadata": {},
   "outputs": [],
   "source": [
    "#create the recipes_db database:\n",
    "db = client.recipes_db\n",
    "\n",
    "#create the collections within the recipes_db database:\n",
    "recipe = db.recipe\n",
    "main = db.main\n",
    "side = db.side\n",
    "dessert = db.dessert\n"
   ]
  },
  {
   "cell_type": "code",
   "execution_count": 19,
   "metadata": {},
   "outputs": [
    {
     "output_type": "execute_result",
     "data": {
      "text/plain": [
       "<pymongo.results.InsertManyResult at 0x17bdea41f80>"
      ]
     },
     "metadata": {},
     "execution_count": 19
    }
   ],
   "source": [
    "#drop the collection to clear out any data that may have been from a previous connection:\n",
    "db.recipe.drop()\n",
    "\n",
    "#convert the dataframe containing recipe names, urls, and ingredients into a JSON file and store it into a records variable:\n",
    "records = json.loads(filtered_recipe_df.T.to_json()).values()\n",
    "\n",
    "#insert the JSON into the recipe collection:\n",
    "db.recipe.insert_many(records)"
   ]
  },
  {
   "cell_type": "code",
   "execution_count": 20,
   "metadata": {},
   "outputs": [
    {
     "output_type": "execute_result",
     "data": {
      "text/plain": [
       "<pymongo.results.InsertOneResult at 0x17bdea41dc0>"
      ]
     },
     "metadata": {},
     "execution_count": 20
    }
   ],
   "source": [
    "#drop the collection to clear out any data that may have been from a previous connection:\n",
    "db.main.drop()\n",
    "\n",
    "#insert the dictionary of main dish items into the main collection:\n",
    "db.main.insert_one(main_dict)"
   ]
  },
  {
   "cell_type": "code",
   "execution_count": 21,
   "metadata": {},
   "outputs": [
    {
     "output_type": "execute_result",
     "data": {
      "text/plain": [
       "<pymongo.results.InsertOneResult at 0x17bdefa2240>"
      ]
     },
     "metadata": {},
     "execution_count": 21
    }
   ],
   "source": [
    "#drop the collection to clear out any data that may have been from a previous connection:\n",
    "db.side.drop()\n",
    "\n",
    "#insert the dictionary of side dish items into the side collection:\n",
    "db.side.insert_one(side_dict)"
   ]
  },
  {
   "cell_type": "code",
   "execution_count": 22,
   "metadata": {},
   "outputs": [
    {
     "output_type": "execute_result",
     "data": {
      "text/plain": [
       "<pymongo.results.InsertOneResult at 0x17bdefe5700>"
      ]
     },
     "metadata": {},
     "execution_count": 22
    }
   ],
   "source": [
    "#drop the collection to clear out any data that may have been from a previous connection:\n",
    "db.dessert.drop()\n",
    "\n",
    "#insert the dictionary of dessert items into the dessert collection:\n",
    "db.dessert.insert_one(dessert_dict)"
   ]
  },
  {
   "cell_type": "code",
   "execution_count": null,
   "metadata": {},
   "outputs": [],
   "source": []
  }
 ],
 "metadata": {
  "kernelspec": {
   "name": "python3",
   "display_name": "Python 3.6.10 64-bit ('PythonData': conda)",
   "metadata": {
    "interpreter": {
     "hash": "0b96008626cca6475d57468afa2b47499b7d40e34aa4792a1fd054893ac8e4a7"
    }
   }
  },
  "language_info": {
   "codemirror_mode": {
    "name": "ipython",
    "version": 3
   },
   "file_extension": ".py",
   "mimetype": "text/x-python",
   "name": "python",
   "nbconvert_exporter": "python",
   "pygments_lexer": "ipython3",
   "version": "3.6.10-final"
  }
 },
 "nbformat": 4,
 "nbformat_minor": 4
}